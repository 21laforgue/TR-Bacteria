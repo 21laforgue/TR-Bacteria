{
 "cells": [
  {
   "cell_type": "code",
   "execution_count": 29,
   "metadata": {},
   "outputs": [],
   "source": [
    "def remove_commas(string):\n",
    "    # Replace commas with an empty string\n",
    "    new_string = string.replace(\",\", \"\")\n",
    "    return new_string\n",
    "    \n",
    "def get_genome(input_string: str) -> str:\n",
    "    # Split the input string into a list of words\n",
    "    words = input_string.split()\n",
    "    \n",
    "    # Check if the input string contains \"complete genome\" or \"complete sequence\"\n",
    "    if \"genome\" in input_string:\n",
    "        # Find the index of the \"complete genome\" word\n",
    "        genome_index = words.index(\"complete\")\n",
    "    elif \"sequence\" in input_string:\n",
    "        # Find the index of the \"complete sequence\" word\n",
    "        genome_index = words.index(\"complete\")\n",
    "    else:\n",
    "        # Return an empty string if neither \"complete genome\" nor \"complete sequence\" is present\n",
    "        return \"\"\n",
    "    \n",
    "    # Check if the word \"chromosome\" is in the input string\n",
    "    if \"chromosome,\" in words:\n",
    "        # Return the two words preceding \"complete genome\" or \"complete sequence\"\n",
    "        return f\"{words[genome_index - 2]} {words[genome_index - 1]}\"\n",
    "    else:\n",
    "        # Return the word preceding \"complete genome\" or \"complete sequence\"\n",
    "        return words[genome_index - 1]\n",
    "\n",
    "def get_filename(filename) -> str:\n",
    "    data = []\n",
    "    with open(filename, \"r\") as f:\n",
    "    # Read the contents of the files\n",
    "        for line in f:\n",
    "            data.append(line)\n",
    "    input_string = data[0]\n",
    "    words = input_string.split()\n",
    "    return words[0][1:] + '.fasta'\n",
    "\n",
    "def get_family(input_string: str) -> str:\n",
    "    # Split the input string into a list of words\n",
    "    words = input_string.split()\n",
    "    return words[1] + ' ' + words[2]\n",
    "\n",
    "def get_name_and_family(filename):\n",
    "    data = []\n",
    "    with open(filename, \"r\") as f:\n",
    "    # Read the contents of the files\n",
    "        for line in f:\n",
    "            data.append(line)\n",
    "    return remove_commas(get_genome(data[0])), get_family(data[0])\n",
    "\n",
    "def replace_spaces_with_underscores(string):\n",
    "    # Replace spaces with underscores\n",
    "    new_string = string.replace(\" \", \"_\")\n",
    "    return new_string\n",
    "    "
   ]
  },
  {
   "cell_type": "code",
   "execution_count": 25,
   "metadata": {},
   "outputs": [
    {
     "data": {
      "text/plain": [
       "('MRY15-117 chromosome,', 'Escherichia coli')"
      ]
     },
     "execution_count": 25,
     "metadata": {},
     "output_type": "execute_result"
    }
   ],
   "source": [
    "import tkinter as tk\n",
    "from tkinter import filedialog\n",
    "import matplotlib.pyplot as plt\n",
    "\n",
    "# Create a Tkinter root window\n",
    "root = tk.Tk()\n",
    "root.withdraw()\n",
    "\n",
    "# Use filedialog to ask the user to select the two files\n",
    "file1 = filedialog.askopenfilename()\n",
    "file2 = filedialog.askopenfilename()\n",
    "\n",
    "data1, data2 = [], []\n",
    "# Open the files\n",
    "with open(file1, \"r\") as f1, open(file2, \"r\") as f2:\n",
    "    # Read the contents of the files\n",
    "    for line in f1:\n",
    "        data1.append(line)\n",
    "    for line in f2:\n",
    "        data2.append(line)\n",
    "\n",
    "\n",
    "get_genome(data1[0]), get_family(data1[0])\n"
   ]
  }
 ],
 "metadata": {
  "kernelspec": {
   "display_name": "base",
   "language": "python",
   "name": "python3"
  },
  "language_info": {
   "codemirror_mode": {
    "name": "ipython",
    "version": 3
   },
   "file_extension": ".py",
   "mimetype": "text/x-python",
   "name": "python",
   "nbconvert_exporter": "python",
   "pygments_lexer": "ipython3",
   "version": "3.9.13 (main, Aug 25 2022, 23:26:10) \n[GCC 11.2.0]"
  },
  "orig_nbformat": 4,
  "vscode": {
   "interpreter": {
    "hash": "f129a2c97354bceac657b5e4786b1bb54862b540a46545fda6b98183214feab2"
   }
  }
 },
 "nbformat": 4,
 "nbformat_minor": 2
}
